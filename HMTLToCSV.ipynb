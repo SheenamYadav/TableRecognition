{
  "nbformat": 4,
  "nbformat_minor": 0,
  "metadata": {
    "colab": {
      "name": "HMTLToCSV.ipynb",
      "provenance": [],
      "collapsed_sections": [],
      "authorship_tag": "ABX9TyNZr8DrClStfWTYfa4+s3zd",
      "include_colab_link": true
    },
    "kernelspec": {
      "name": "python3",
      "display_name": "Python 3"
    }
  },
  "cells": [
    {
      "cell_type": "markdown",
      "metadata": {
        "id": "view-in-github",
        "colab_type": "text"
      },
      "source": [
        "<a href=\"https://colab.research.google.com/github/SheenamYadav/TableRecognition/blob/master/HMTLToCSV.ipynb\" target=\"_parent\"><img src=\"https://colab.research.google.com/assets/colab-badge.svg\" alt=\"Open In Colab\"/></a>"
      ]
    },
    {
      "cell_type": "code",
      "metadata": {
        "id": "ieQgEgcVpphE",
        "colab_type": "code",
        "colab": {
          "base_uri": "https://localhost:8080/",
          "height": 292
        },
        "outputId": "8e844541-8ff9-4f61-dd42-8ed2ca7f8c23"
      },
      "source": [
        "!pip install html-table-extractor"
      ],
      "execution_count": 15,
      "outputs": [
        {
          "output_type": "stream",
          "text": [
            "Collecting html-table-extractor\n",
            "  Downloading https://files.pythonhosted.org/packages/79/a4/2845f07c4034cd95c15630cdc77c9430ae763ebde41454b2249852cbbcea/html_table_extractor-1.4.0-py2.py3-none-any.whl\n",
            "Collecting beautifulsoup4==4.5.3\n",
            "\u001b[?25l  Downloading https://files.pythonhosted.org/packages/af/a3/9e803f838b3eeb313d45d916d4387cda8572c92e1aafeb53fd43ddb5da2c/beautifulsoup4-4.5.3-py3-none-any.whl (85kB)\n",
            "\r\u001b[K     |███▉                            | 10kB 18.0MB/s eta 0:00:01\r\u001b[K     |███████▊                        | 20kB 1.7MB/s eta 0:00:01\r\u001b[K     |███████████▌                    | 30kB 2.3MB/s eta 0:00:01\r\u001b[K     |███████████████▍                | 40kB 1.7MB/s eta 0:00:01\r\u001b[K     |███████████████████▎            | 51kB 1.9MB/s eta 0:00:01\r\u001b[K     |███████████████████████         | 61kB 2.2MB/s eta 0:00:01\r\u001b[K     |███████████████████████████     | 71kB 2.4MB/s eta 0:00:01\r\u001b[K     |██████████████████████████████▉ | 81kB 2.7MB/s eta 0:00:01\r\u001b[K     |████████████████████████████████| 92kB 2.5MB/s \n",
            "\u001b[?25hInstalling collected packages: beautifulsoup4, html-table-extractor\n",
            "  Found existing installation: beautifulsoup4 4.6.3\n",
            "    Uninstalling beautifulsoup4-4.6.3:\n",
            "      Successfully uninstalled beautifulsoup4-4.6.3\n",
            "Successfully installed beautifulsoup4-4.5.3 html-table-extractor-1.4.0\n"
          ],
          "name": "stdout"
        },
        {
          "output_type": "display_data",
          "data": {
            "application/vnd.colab-display-data+json": {
              "pip_warning": {
                "packages": [
                  "bs4"
                ]
              }
            }
          },
          "metadata": {
            "tags": []
          }
        }
      ]
    },
    {
      "cell_type": "code",
      "metadata": {
        "id": "XNAJA9xAyQLp",
        "colab_type": "code",
        "colab": {}
      },
      "source": [
        "import os"
      ],
      "execution_count": 0,
      "outputs": []
    },
    {
      "cell_type": "code",
      "metadata": {
        "id": "HiE07CE8vd51",
        "colab_type": "code",
        "colab": {}
      },
      "source": [
        "import pandas as pd\n",
        "from google.colab import files"
      ],
      "execution_count": 0,
      "outputs": []
    },
    {
      "cell_type": "code",
      "metadata": {
        "id": "ug2iBRPp24wA",
        "colab_type": "code",
        "colab": {}
      },
      "source": [
        "import sys\n",
        "from bs4 import BeautifulSoup\n",
        "from html_table_extractor.extractor import Extractor\n",
        "import requests as requests\n",
        "import pandas as pd"
      ],
      "execution_count": 0,
      "outputs": []
    },
    {
      "cell_type": "code",
      "metadata": {
        "id": "iclUQg1f1W_H",
        "colab_type": "code",
        "colab": {}
      },
      "source": [
        "file_count = 1"
      ],
      "execution_count": 0,
      "outputs": []
    },
    {
      "cell_type": "code",
      "metadata": {
        "id": "HzwyWDm50_lo",
        "colab_type": "code",
        "colab": {}
      },
      "source": [
        "def htmlToTable(table):\n",
        "  global file_count\n",
        "  extractor = Extractor(table)\n",
        "  extractor.parse()\n",
        "  print(extractor.return_list())\n",
        "  #print(extractor.parse())\n",
        "  os.mkdir(str(file_count)+\"/\")\n",
        "  extractor.write_to_csv(path=str(file_count)+\"/\")\n",
        "  file_count += 1\n",
        "  print(\"Success!\")\n"
      ],
      "execution_count": 0,
      "outputs": []
    },
    {
      "cell_type": "code",
      "metadata": {
        "id": "nSK02qyo5zkN",
        "colab_type": "code",
        "colab": {}
      },
      "source": [
        "def findTables(div):\n",
        "  str_div = str(div)\n",
        "  str_table = \" \"\n",
        "  str_table = str_div[str_div.index(\"<table\"):str_div.index(\"</table>\")+8]\n",
        "  with open(\"temp.html\",'w') as f:\n",
        "    f.write(str_table)\n",
        "  if(str_table == \" \"):\n",
        "    return str_table, False\n",
        "  return str_table, True"
      ],
      "execution_count": 0,
      "outputs": []
    },
    {
      "cell_type": "code",
      "metadata": {
        "id": "xkbqZnD-1UdV",
        "colab_type": "code",
        "colab": {}
      },
      "source": [
        "def extractFromURL(URL):\n",
        "  global file_count\n",
        "  response = requests.get(URL)\n",
        "  soup = BeautifulSoup(response.text, 'html.parser')\n",
        "  tables = soup.findAll(lambda tag: tag.name=='table')\n",
        "  count = file_count\n",
        "  for table in tables:\n",
        "    htmlToTable(table)\n",
        "  print(str(file_count - count)+\" : TABLES EXTRACTED.\")\n",
        "  count = file_count\n",
        "  divs = soup.findAll(lambda tag: tag.name=='div')\n",
        "  for div in divs:\n",
        "    table, flag = findTables(div)\n",
        "    if flag:\n",
        "      htmlToTable(table)\n",
        "  print(str(file_count - count)+\" : MORE TABLES EXTRACTED.\")"
      ],
      "execution_count": 0,
      "outputs": []
    },
    {
      "cell_type": "code",
      "metadata": {
        "id": "lJCd6hBi1KR5",
        "colab_type": "code",
        "colab": {}
      },
      "source": [
        "URLs = ['https://www.sec.gov/Archives/edgar/data/882835/000088283518000017/a180420q1earningsrelease.htm']\n",
        "for URL in URLs:\n",
        "  extractFromURL(URL)"
      ],
      "execution_count": 0,
      "outputs": []
    },
    {
      "cell_type": "code",
      "metadata": {
        "id": "UxxBUis93g-J",
        "colab_type": "code",
        "colab": {}
      },
      "source": [
        "for i in range(1,12):\n",
        "  print(pd.read_csv(str(i)+\"/output.csv\"))"
      ],
      "execution_count": 0,
      "outputs": []
    },
    {
      "cell_type": "code",
      "metadata": {
        "id": "7DxKQTOErsFF",
        "colab_type": "code",
        "colab": {
          "base_uri": "https://localhost:8080/",
          "height": 51
        },
        "outputId": "bfa6460a-e077-4158-9b71-511b0025356b"
      },
      "source": [
        "response = requests.get(URLs[0])\n",
        "soup = BeautifulSoup(response.text, 'html.parser')\n",
        "div = soup.findAll(lambda tag: tag.name=='div')\n",
        "string = str(div[1])\n",
        "table_div = string[string.index(\"<table\"):string.index(\"</table>\")+8]\n",
        "htmlToTable(table_div)"
      ],
      "execution_count": 25,
      "outputs": [
        {
          "output_type": "stream",
          "text": [
            "[['', ''], ['', ''], ['Contact Information:\\xa0Investor Relations941-556-2601\\xa0investor-relations@ropertech.com', 'Roper Technologies, Inc.']]\n",
            "Success!\n"
          ],
          "name": "stdout"
        }
      ]
    },
    {
      "cell_type": "code",
      "metadata": {
        "id": "mIxBs-CwvPep",
        "colab_type": "code",
        "colab": {
          "base_uri": "https://localhost:8080/",
          "height": 34
        },
        "outputId": "b76de4e2-887a-488a-9fa7-d7a4ea5588a7"
      },
      "source": [
        "!ls"
      ],
      "execution_count": 62,
      "outputs": [
        {
          "output_type": "stream",
          "text": [
            "drive  output.csv  sample_data\n"
          ],
          "name": "stdout"
        }
      ]
    },
    {
      "cell_type": "code",
      "metadata": {
        "id": "kzxTtruQv7o3",
        "colab_type": "code",
        "colab": {
          "base_uri": "https://localhost:8080/",
          "height": 111
        },
        "outputId": "aec70b6e-38ef-4ec7-af2c-d05f7ba21f52"
      },
      "source": [
        "pd.read_csv(\"output.csv\")"
      ],
      "execution_count": 41,
      "outputs": [
        {
          "output_type": "execute_result",
          "data": {
            "text/html": [
              "<div>\n",
              "<style scoped>\n",
              "    .dataframe tbody tr th:only-of-type {\n",
              "        vertical-align: middle;\n",
              "    }\n",
              "\n",
              "    .dataframe tbody tr th {\n",
              "        vertical-align: top;\n",
              "    }\n",
              "\n",
              "    .dataframe thead th {\n",
              "        text-align: right;\n",
              "    }\n",
              "</style>\n",
              "<table border=\"1\" class=\"dataframe\">\n",
              "  <thead>\n",
              "    <tr style=\"text-align: right;\">\n",
              "      <th></th>\n",
              "      <th>Unnamed: 0</th>\n",
              "      <th>Unnamed: 1</th>\n",
              "    </tr>\n",
              "  </thead>\n",
              "  <tbody>\n",
              "    <tr>\n",
              "      <th>0</th>\n",
              "      <td>NaN</td>\n",
              "      <td>NaN</td>\n",
              "    </tr>\n",
              "    <tr>\n",
              "      <th>1</th>\n",
              "      <td>Contact Information: Investor Relations941-556...</td>\n",
              "      <td>Roper Technologies, Inc.</td>\n",
              "    </tr>\n",
              "  </tbody>\n",
              "</table>\n",
              "</div>"
            ],
            "text/plain": [
              "                                          Unnamed: 0                Unnamed: 1\n",
              "0                                                NaN                       NaN\n",
              "1  Contact Information: Investor Relations941-556...  Roper Technologies, Inc."
            ]
          },
          "metadata": {
            "tags": []
          },
          "execution_count": 41
        }
      ]
    }
  ]
}